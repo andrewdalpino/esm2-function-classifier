{
 "cells": [
  {
   "cell_type": "markdown",
   "id": "167fcfdc",
   "metadata": {},
   "source": [
    "Let's import one of the pretrained models from HuggingFace Hub using the Transformers library."
   ]
  },
  {
   "cell_type": "code",
   "execution_count": null,
   "id": "eb4221a9",
   "metadata": {},
   "outputs": [],
   "source": [
    "from transformers import AutoTokenizer, AutoModelForSequenceClassification\n",
    "\n",
    "model_name = \"andrewdalpino/ESM2-35M-Protein-Molecular-Function\"\n",
    "\n",
    "tokenizer = AutoTokenizer.from_pretrained(model_name)\n",
    "\n",
    "model = AutoModelForSequenceClassification.from_pretrained(model_name)\n",
    "\n",
    "model.eval()"
   ]
  },
  {
   "cell_type": "markdown",
   "id": "fd3073b9",
   "metadata": {},
   "source": [
    "Next, let's print out how many parameters this model has."
   ]
  },
  {
   "cell_type": "code",
   "execution_count": null,
   "id": "6cf3d98f",
   "metadata": {},
   "outputs": [],
   "source": [
    "num_params = sum(p.numel() for p in model.parameters())\n",
    "\n",
    "print(f\"Number of parameters: {num_params:,}\")"
   ]
  },
  {
   "cell_type": "markdown",
   "id": "a79bba77",
   "metadata": {},
   "source": [
    "Finally, we'll sample the top `k` predictions from the model and rank the terms in order of highest probability to lowest."
   ]
  },
  {
   "cell_type": "code",
   "execution_count": null,
   "id": "4cf54ae4",
   "metadata": {},
   "outputs": [],
   "source": [
    "import torch\n",
    "\n",
    "sequence = \"MALWMRLLPLLALLALWGPDPAAAFVNQHLCGSHLVEALYLVCGERGFFYTPKA\"\n",
    "\n",
    "top_k = 10\n",
    "\n",
    "out = tokenizer(\n",
    "    sequence,\n",
    "    max_length=1026,\n",
    "    truncation=True,\n",
    "    return_tensors=\"pt\",\n",
    ")\n",
    "\n",
    "with torch.no_grad():\n",
    "    outputs = model.forward(out[\"input_ids\"])\n",
    "\n",
    "    probabilities = torch.sigmoid(outputs.logits.squeeze(0))\n",
    "\n",
    "    probabilities, indices = torch.topk(probabilities, top_k)\n",
    "\n",
    "probabilities = probabilities.tolist()\n",
    "\n",
    "terms = [model.config.id2label[index] for index in indices.tolist()]\n",
    "\n",
    "print(f\"Top {top_k} GO Terms:\")\n",
    "\n",
    "for term, probability in zip(terms, probabilities):\n",
    "    print(f\"{probability:.4f}: {term}\")"
   ]
  }
 ],
 "metadata": {
  "kernelspec": {
   "display_name": ".venv",
   "language": "python",
   "name": "python3"
  },
  "language_info": {
   "codemirror_mode": {
    "name": "ipython",
    "version": 3
   },
   "file_extension": ".py",
   "mimetype": "text/x-python",
   "name": "python",
   "nbconvert_exporter": "python",
   "pygments_lexer": "ipython3",
   "version": "3.12.3"
  }
 },
 "nbformat": 4,
 "nbformat_minor": 5
}
