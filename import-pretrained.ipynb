{
 "cells": [
  {
   "cell_type": "markdown",
   "id": "167fcfdc",
   "metadata": {},
   "source": [
    "Let's import one of the pretrained models from HuggingFace Hub using the Transformers library."
   ]
  },
  {
   "cell_type": "code",
   "execution_count": null,
   "id": "eb4221a9",
   "metadata": {},
   "outputs": [],
   "source": [
    "import torch\n",
    "\n",
    "from transformers import AutoTokenizer, AutoModelForSequenceClassification\n",
    "\n",
    "model_name = \"andrewdalpino/ESM2-35M-Protein-Molecular-Function\"\n",
    "\n",
    "sequence = \"MALWMRLLPLLALLALWGPDPAAAFVNQHLCGSHLVEALYLVCGERGFFYTPKA\"\n",
    "\n",
    "top_k = 10\n",
    "\n",
    "tokenizer = AutoTokenizer.from_pretrained(model_name)\n",
    "\n",
    "model = AutoModelForSequenceClassification.from_pretrained(model_name)\n",
    "\n",
    "out = tokenizer(\n",
    "    sequence,\n",
    "    max_length=1026,\n",
    "    truncation=True,\n",
    "    return_tensors=\"pt\",\n",
    ")\n",
    "\n",
    "with torch.no_grad():\n",
    "    outputs = model.forward(out[\"input_ids\"])\n",
    "\n",
    "    probabilities = torch.sigmoid(outputs.logits.squeeze(0))\n",
    "\n",
    "    probabilities, indices = torch.topk(probabilities, top_k)\n",
    "\n",
    "probabilities = probabilities.tolist()\n",
    "\n",
    "terms = [model.config.id2label[index] for index in indices.tolist()]\n",
    "\n",
    "print(f\"Top {top_k} GO Terms:\")\n",
    "\n",
    "for term, probability in zip(terms, probabilities):\n",
    "    print(f\"{probability:.4f}: {term}\")"
   ]
  }
 ],
 "metadata": {
  "kernelspec": {
   "display_name": ".venv",
   "language": "python",
   "name": "python3"
  },
  "language_info": {
   "codemirror_mode": {
    "name": "ipython",
    "version": 3
   },
   "file_extension": ".py",
   "mimetype": "text/x-python",
   "name": "python",
   "nbconvert_exporter": "python",
   "pygments_lexer": "ipython3",
   "version": "3.12.3"
  }
 },
 "nbformat": 4,
 "nbformat_minor": 5
}
