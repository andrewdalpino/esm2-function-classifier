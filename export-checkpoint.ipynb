{
 "cells": [
  {
   "cell_type": "markdown",
   "metadata": {},
   "source": [
    "Let's export the trained model in safetensor formats for compatibility with downstream inference engines. First, we'll define some variables."
   ]
  },
  {
   "cell_type": "code",
   "execution_count": null,
   "metadata": {},
   "outputs": [],
   "source": [
    "model_name = \"ESM2-35M-Protein-Biological-Process\"\n",
    "model_namespace = f\"andrewdalpino/{model_name}\"\n",
    "checkpoint_path = \"./checkpoints/medium-bp-2048-40.pt\"\n",
    "exports_path = \"./exports\""
   ]
  },
  {
   "cell_type": "markdown",
   "metadata": {},
   "source": [
    "Then, we'll load the base model checkpoint into memory from disk."
   ]
  },
  {
   "cell_type": "code",
   "execution_count": null,
   "metadata": {},
   "outputs": [],
   "source": [
    "import torch\n",
    "\n",
    "from transformers import EsmForSequenceClassification\n",
    "\n",
    "\n",
    "checkpoint = torch.load(\n",
    "    checkpoint_path, map_location=\"cpu\", weights_only=False\n",
    ")\n",
    "\n",
    "tokenizer = checkpoint[\"tokenizer\"]\n",
    "\n",
    "model = EsmForSequenceClassification(checkpoint[\"config\"])\n",
    "\n",
    "model = torch.compile(model)\n",
    "\n",
    "model.load_state_dict(checkpoint[\"model\"])\n",
    "\n",
    "model.eval()\n",
    "\n",
    "print(\"Checkpoint loaded successfully.\")"
   ]
  },
  {
   "cell_type": "markdown",
   "metadata": {},
   "source": [
    "Then, we'll export a HuggingFace Transformers-compatible model and upload the model to HuggingFace Hub."
   ]
  },
  {
   "cell_type": "code",
   "execution_count": null,
   "metadata": {},
   "outputs": [],
   "source": [
    "from os import path\n",
    "\n",
    "from huggingface_hub import notebook_login\n",
    "\n",
    "hf_path = path.join(exports_path, model_name)\n",
    "\n",
    "tokenizer.save_pretrained(hf_path)\n",
    "\n",
    "model.save_pretrained(hf_path)\n",
    "\n",
    "print(f\"Model saved to {hf_path}\")\n",
    "\n",
    "notebook_login()\n",
    "\n",
    "tokenizer.push_to_hub(model_name)\n",
    "\n",
    "model.push_to_hub(model_name)"
   ]
  },
  {
   "cell_type": "markdown",
   "metadata": {},
   "source": [
    "And finally, we'll export an ONNX version."
   ]
  },
  {
   "cell_type": "code",
   "execution_count": null,
   "metadata": {},
   "outputs": [],
   "source": [
    "from optimum.onnxruntime import ORTModelForSequenceClassification\n",
    "\n",
    "ort_model = ORTModelForSequenceClassification.from_pretrained(hf_path, export=True)\n",
    "\n",
    "ort_model.save_pretrained(hf_path)\n",
    "\n",
    "ort_model.push_to_hub(hf_path, model_namespace)"
   ]
  }
 ],
 "metadata": {
  "kernelspec": {
   "display_name": ".venv",
   "language": "python",
   "name": "python3"
  },
  "language_info": {
   "codemirror_mode": {
    "name": "ipython",
    "version": 3
   },
   "file_extension": ".py",
   "mimetype": "text/x-python",
   "name": "python",
   "nbconvert_exporter": "python",
   "pygments_lexer": "ipython3",
   "version": "3.12.3"
  }
 },
 "nbformat": 4,
 "nbformat_minor": 2
}
